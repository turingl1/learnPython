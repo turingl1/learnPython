{
 "cells": [
  {
   "cell_type": "code",
   "execution_count": 16,
   "metadata": {},
   "outputs": [
    {
     "name": "stdout",
     "output_type": "stream",
     "text": [
      "Please input the first number: 12\n",
      "Please input the second number: 32\n",
      "32\n"
     ]
    }
   ],
   "source": [
    "a=int(input('Please input the first number: '))\n",
    "b=int(input('Please input the second number: '))\n",
    "print(max(a,b))\n",
    "#输出最大值"
   ]
  },
  {
   "cell_type": "code",
   "execution_count": 19,
   "metadata": {},
   "outputs": [
    {
     "name": "stdout",
     "output_type": "stream",
     "text": [
      "Please input a number: 2\n",
      "1\n"
     ]
    }
   ],
   "source": [
    "nu=int(input('Please input a number: '))\n",
    "if(nu//10000):\n",
    "    print('5')\n",
    "elif(nu//1000):\n",
    "    print('4')\n",
    "elif(nu//100):\n",
    "    print('3')\n",
    "elif(nu//10):\n",
    "    print('2')\n",
    "else:\n",
    "    print('1')"
   ]
  },
  {
   "cell_type": "code",
   "execution_count": 13,
   "metadata": {},
   "outputs": [
    {
     "data": {
      "text/plain": [
       "8.989"
      ]
     },
     "execution_count": 13,
     "metadata": {},
     "output_type": "execute_result"
    }
   ],
   "source": [
    "8989%10000/1000"
   ]
  },
  {
   "cell_type": "code",
   "execution_count": 25,
   "metadata": {},
   "outputs": [
    {
     "name": "stdout",
     "output_type": "stream",
     "text": [
      "Please input a number: 23533\n",
      "5\n"
     ]
    }
   ],
   "source": [
    "import math\n",
    "nu=int(input('Please input a number: '))\n",
    "a=int(math.log10(nu)+1)\n",
    "print(a)"
   ]
  },
  {
   "cell_type": "code",
   "execution_count": null,
   "metadata": {},
   "outputs": [],
   "source": []
  },
  {
   "cell_type": "code",
   "execution_count": null,
   "metadata": {},
   "outputs": [],
   "source": [
    "432"
   ]
  }
 ],
 "metadata": {
  "kernelspec": {
   "display_name": "Python 3",
   "language": "python",
   "name": "python3"
  },
  "language_info": {
   "codemirror_mode": {
    "name": "ipython",
    "version": 3
   },
   "file_extension": ".py",
   "mimetype": "text/x-python",
   "name": "python",
   "nbconvert_exporter": "python",
   "pygments_lexer": "ipython3",
   "version": "3.7.1"
  }
 },
 "nbformat": 4,
 "nbformat_minor": 2
}
