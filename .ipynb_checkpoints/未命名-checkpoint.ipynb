{
 "cells": [
  {
   "cell_type": "code",
   "execution_count": 26,
   "metadata": {
    "collapsed": true
   },
   "outputs": [
    {
     "name": "stdout",
     "output_type": "stream",
     "text": [
      "Please input a number: 12345\n",
      "5\n",
      "4\n",
      "3\n",
      "2\n",
      "1\n"
     ]
    }
   ],
   "source": [
    "number=input('Please input a number: ')\n",
    "length=len(number)\n",
    "number=int(number)\n",
    "for count in range(length,0,-1):\n",
    "    i=number%10\n",
    "    print(i)\n",
    "    number=number//10"
   ]
  },
  {
   "cell_type": "code",
   "execution_count": 36,
   "metadata": {
    "collapsed": true
   },
   "outputs": [
    {
     "name": "stdout",
     "output_type": "stream",
     "text": [
      "Please input a number: 12345\n",
      "1\n",
      "2\n",
      "3\n",
      "4\n",
      "5\n"
     ]
    }
   ],
   "source": [
    "number=input('Please input a number: ')\n",
    "length=len(number)\n",
    "number=int(number)\n",
    "for count in range(length,0,-1):\n",
    "    i=number//pow(10,length-1)\n",
    "    print(i)\n",
    "    number=number%pow(10,length-1)\n",
    "    length-=1"
   ]
  },
  {
   "cell_type": "code",
   "execution_count": 39,
   "metadata": {
    "collapsed": true
   },
   "outputs": [
    {
     "name": "stdout",
     "output_type": "stream",
     "text": [
      "==>8\n",
      "********\n",
      "********\n",
      "********\n",
      "********\n",
      "********\n",
      "********\n",
      "********\n",
      "********\n"
     ]
    }
   ],
   "source": [
    "n=int(input('==>'))\n",
    "for i in range(1,n+1):\n",
    "    print('*'*n)"
   ]
  },
  {
   "cell_type": "code",
   "execution_count": 40,
   "metadata": {},
   "outputs": [
    {
     "name": "stdout",
     "output_type": "stream",
     "text": [
      "2500\n"
     ]
    }
   ],
   "source": [
    "sum =0\n",
    "for i in range(1,100):\n",
    "    if(i%2==1):\n",
    "        sum+=i\n",
    "print(sum)"
   ]
  },
  {
   "cell_type": "code",
   "execution_count": 43,
   "metadata": {
    "collapsed": true
   },
   "outputs": [
    {
     "name": "stdout",
     "output_type": "stream",
     "text": [
      "Please input your scout: 99\n",
      "A\n"
     ]
    }
   ],
   "source": [
    "scout=int(input('Please input your scout: '))\n",
    "if(scout<60):\n",
    "    print('E')\n",
    "elif(60<=scout<70):\n",
    "    print('D')\n",
    "elif(70<=scout<80):\n",
    "    print('C')\n",
    "elif(80<=scout<90):\n",
    "    print('B')\n",
    "elif(90<=scout):\n",
    "    print('A')"
   ]
  },
  {
   "cell_type": "code",
   "execution_count": 48,
   "metadata": {
    "collapsed": true
   },
   "outputs": [
    {
     "name": "stdout",
     "output_type": "stream",
     "text": [
      "1\n",
      "2\n",
      "6\n",
      "24\n",
      "120\n",
      "153\n"
     ]
    }
   ],
   "source": [
    "sum=0\n",
    "for i in range(1,6):\n",
    "    sum1=1\n",
    "    for j in range(1,i+1): \n",
    "        sum1=sum1*j\n",
    "    sum+=sum1\n",
    "print(sum)"
   ]
  },
  {
   "cell_type": "code",
   "execution_count": 51,
   "metadata": {},
   "outputs": [
    {
     "name": "stdout",
     "output_type": "stream",
     "text": [
      "Please input your scout: 7\n",
      "False\n"
     ]
    }
   ],
   "source": [
    "bi=0\n",
    "number=int(input('Please input your scout: '))\n",
    "for i in range(2,number):\n",
    "    if(number%i==0):\n",
    "        bi=1\n",
    "        break\n",
    "if bi:\n",
    "    print('False')\n",
    "else:\n",
    "    print('True')"
   ]
  },
  {
   "cell_type": "code",
   "execution_count": null,
   "metadata": {},
   "outputs": [],
   "source": []
  },
  {
   "cell_type": "code",
   "execution_count": null,
   "metadata": {},
   "outputs": [],
   "source": []
  }
 ],
 "metadata": {
  "kernelspec": {
   "display_name": "Python 3",
   "language": "python",
   "name": "python3"
  },
  "language_info": {
   "codemirror_mode": {
    "name": "ipython",
    "version": 3
   },
   "file_extension": ".py",
   "mimetype": "text/x-python",
   "name": "python",
   "nbconvert_exporter": "python",
   "pygments_lexer": "ipython3",
   "version": "3.7.1"
  }
 },
 "nbformat": 4,
 "nbformat_minor": 2
}
